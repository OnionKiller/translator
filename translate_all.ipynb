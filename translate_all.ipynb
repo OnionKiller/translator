{
 "cells": [
  {
   "cell_type": "code",
   "execution_count": null,
   "metadata": {},
   "outputs": [],
   "source": [
    "import deepl\n",
    "from dotenv import dotenv_values\n",
    "from pathlib import Path\n",
    "\n",
    "config = dotenv_values(\".env\")\n",
    "\n",
    "auth_key = config['auth_key']\n",
    "print(auth_key)"
   ]
  },
  {
   "cell_type": "code",
   "execution_count": 2,
   "metadata": {},
   "outputs": [
    {
     "name": "stdout",
     "output_type": "stream",
     "text": [
      "0 of 500000\n"
     ]
    }
   ],
   "source": [
    "translator = deepl.Translator(auth_key)\n",
    "usage = translator.get_usage()\n",
    "print(usage.character)"
   ]
  },
  {
   "cell_type": "code",
   "execution_count": 3,
   "metadata": {},
   "outputs": [],
   "source": [
    "root_path = Path('el_files')\n",
    "if not root_path.is_dir():\n",
    "    raise ValueError(\"Root path is not a folder!\")"
   ]
  },
  {
   "cell_type": "code",
   "execution_count": 9,
   "metadata": {},
   "outputs": [],
   "source": [
    "def errorProofTranslate(ipath:Path,opath:Path):\n",
    "    try:\n",
    "        # Using translate_document_from_filepath() with file paths \n",
    "        translator.translate_document_from_filepath(\n",
    "            ipath,\n",
    "            opath,\n",
    "            source_lang=\"EL\",\n",
    "            target_lang=\"EN-GB\",\n",
    "        )\n",
    "        \n",
    "    except deepl.DocumentTranslationException as error:\n",
    "        # If an error occurs during document translation after the document was\n",
    "        # already uploaded, a DocumentTranslationException is raised. The\n",
    "        # document_handle property contains the document handle that may be used to\n",
    "        # later retrieve the document from the server, or contact DeepL support.\n",
    "        doc_id = error.document_handle.id\n",
    "        doc_key = error.document_handle.key\n",
    "        print(f\"Error after uploading ${error}, id: ${doc_id} key: ${doc_key}\")\n",
    "    except deepl.DeepLException as error:\n",
    "        # Errors during upload raise a DeepLException\n",
    "        print(error)"
   ]
  },
  {
   "cell_type": "code",
   "execution_count": 10,
   "metadata": {},
   "outputs": [],
   "source": [
    "project_file = Path(r\"D:\\U_targyak\\ERASMUS\\AI\\Project_ΥΝ_2022-23_ΜέροςΒ.pdf\")\n",
    "out_file = project_file.parent/(project_file.stem + \"_eng\" + project_file.suffix)\n",
    "errorProofTranslate(project_file,out_file)"
   ]
  },
  {
   "cell_type": "code",
   "execution_count": 40,
   "metadata": {},
   "outputs": [
    {
     "name": "stdout",
     "output_type": "stream",
     "text": [
      "Translating:  Project_ΥΝ_2022-23_Μέρος-Α.pdf\n",
      "Translating:  ΥΠΟΛΟΓΙΣΤΙΚΗ ΝΟΗΜΟΣΥΝΗ_ΥΛΗ.docx\n",
      "Translating:  ΥΝ-Lecture1.pdf\n",
      "Translating:  ΥΝ-Lecture2-perceptron.pdf\n",
      "Translating:  K-fold cross-validation & Weight decay.docx\n",
      "Translating:  Παρουσίαση WEKA.ppt\n",
      "Bad request, message: Failed to get the document_type from the file extension (Παρουσίαση WEKA.ppt).\n",
      "Translating:  Φροντιστήριο 1.pptx\n",
      "Translating:  Φροντιστήριο 10.pptx\n",
      "Translating:  Φροντιστήριο 2.pptx\n",
      "Translating:  Φροντιστήριο 3.pptx\n"
     ]
    },
    {
     "ename": "AttributeError",
     "evalue": "'DocumentHandle' object has no attribute 'id'",
     "output_type": "error",
     "traceback": [
      "\u001b[1;31m---------------------------------------------------------------------------\u001b[0m",
      "\u001b[1;31mQuotaExceededException\u001b[0m                    Traceback (most recent call last)",
      "File \u001b[1;32md:\\U_targyak\\ERASMUS\\AI\\.venv\\lib\\site-packages\\deepl\\translator.py:980\u001b[0m, in \u001b[0;36mTranslator.translate_document\u001b[1;34m(self, input_document, output_document, source_lang, target_lang, formality, glossary, filename)\u001b[0m\n\u001b[0;32m    979\u001b[0m     \u001b[39mif\u001b[39;00m status\u001b[39m.\u001b[39mok:\n\u001b[1;32m--> 980\u001b[0m         \u001b[39mself\u001b[39;49m\u001b[39m.\u001b[39;49mtranslate_document_download(handle, output_document)\n\u001b[0;32m    981\u001b[0m \u001b[39mexcept\u001b[39;00m \u001b[39mException\u001b[39;00m \u001b[39mas\u001b[39;00m e:\n",
      "File \u001b[1;32md:\\U_targyak\\ERASMUS\\AI\\.venv\\lib\\site-packages\\deepl\\translator.py:1119\u001b[0m, in \u001b[0;36mTranslator.translate_document_download\u001b[1;34m(self, handle, output_file, chunk_size)\u001b[0m\n\u001b[0;32m   1115\u001b[0m status_code, response, json \u001b[39m=\u001b[39m \u001b[39mself\u001b[39m\u001b[39m.\u001b[39m_api_call(\n\u001b[0;32m   1116\u001b[0m     url, data\u001b[39m=\u001b[39mdata, stream\u001b[39m=\u001b[39m\u001b[39mTrue\u001b[39;00m\n\u001b[0;32m   1117\u001b[0m )\n\u001b[1;32m-> 1119\u001b[0m \u001b[39mself\u001b[39;49m\u001b[39m.\u001b[39;49m_raise_for_status(\n\u001b[0;32m   1120\u001b[0m     status_code, \u001b[39m\"\u001b[39;49m\u001b[39m<file>\u001b[39;49m\u001b[39m\"\u001b[39;49m, json, downloading_document\u001b[39m=\u001b[39;49m\u001b[39mTrue\u001b[39;49;00m\n\u001b[0;32m   1121\u001b[0m )\n\u001b[0;32m   1123\u001b[0m \u001b[39mif\u001b[39;00m output_file:\n",
      "File \u001b[1;32md:\\U_targyak\\ERASMUS\\AI\\.venv\\lib\\site-packages\\deepl\\translator.py:578\u001b[0m, in \u001b[0;36mTranslator._raise_for_status\u001b[1;34m(self, status_code, content, json, glossary, downloading_document)\u001b[0m\n\u001b[0;32m    577\u001b[0m \u001b[39melif\u001b[39;00m status_code \u001b[39m==\u001b[39m \u001b[39mself\u001b[39m\u001b[39m.\u001b[39m_HTTP_STATUS_QUOTA_EXCEEDED:\n\u001b[1;32m--> 578\u001b[0m     \u001b[39mraise\u001b[39;00m QuotaExceededException(\n\u001b[0;32m    579\u001b[0m         \u001b[39mf\u001b[39m\u001b[39m\"\u001b[39m\u001b[39mQuota for this billing period has been exceeded\u001b[39m\u001b[39m{\u001b[39;00mmessage\u001b[39m}\u001b[39;00m\u001b[39m\"\u001b[39m,\n\u001b[0;32m    580\u001b[0m         http_status_code\u001b[39m=\u001b[39mstatus_code,\n\u001b[0;32m    581\u001b[0m     )\n\u001b[0;32m    582\u001b[0m \u001b[39melif\u001b[39;00m status_code \u001b[39m==\u001b[39m http\u001b[39m.\u001b[39mHTTPStatus\u001b[39m.\u001b[39mNOT_FOUND:\n",
      "\u001b[1;31mQuotaExceededException\u001b[0m: Quota for this billing period has been exceeded",
      "\nThe above exception was the direct cause of the following exception:\n",
      "\u001b[1;31mDocumentTranslationException\u001b[0m              Traceback (most recent call last)",
      "Cell \u001b[1;32mIn[39], line 4\u001b[0m, in \u001b[0;36merrorProofTranslate\u001b[1;34m(ipath, opath)\u001b[0m\n\u001b[0;32m      2\u001b[0m \u001b[39mtry\u001b[39;00m:\n\u001b[0;32m      3\u001b[0m     \u001b[39m# Using translate_document_from_filepath() with file paths \u001b[39;00m\n\u001b[1;32m----> 4\u001b[0m     translator\u001b[39m.\u001b[39;49mtranslate_document_from_filepath(\n\u001b[0;32m      5\u001b[0m         ipath,\n\u001b[0;32m      6\u001b[0m         opath,\n\u001b[0;32m      7\u001b[0m         source_lang\u001b[39m=\u001b[39;49m\u001b[39m\"\u001b[39;49m\u001b[39mEL\u001b[39;49m\u001b[39m\"\u001b[39;49m,\n\u001b[0;32m      8\u001b[0m         target_lang\u001b[39m=\u001b[39;49m\u001b[39m\"\u001b[39;49m\u001b[39mEN-GB\u001b[39;49m\u001b[39m\"\u001b[39;49m,\n\u001b[0;32m      9\u001b[0m     )\n\u001b[0;32m     11\u001b[0m \u001b[39mexcept\u001b[39;00m deepl\u001b[39m.\u001b[39mDocumentTranslationException \u001b[39mas\u001b[39;00m error:\n\u001b[0;32m     12\u001b[0m     \u001b[39m# If an error occurs during document translation after the document was\u001b[39;00m\n\u001b[0;32m     13\u001b[0m     \u001b[39m# already uploaded, a DocumentTranslationException is raised. The\u001b[39;00m\n\u001b[0;32m     14\u001b[0m     \u001b[39m# document_handle property contains the document handle that may be used to\u001b[39;00m\n\u001b[0;32m     15\u001b[0m     \u001b[39m# later retrieve the document from the server, or contact DeepL support.\u001b[39;00m\n",
      "File \u001b[1;32md:\\U_targyak\\ERASMUS\\AI\\.venv\\lib\\site-packages\\deepl\\translator.py:930\u001b[0m, in \u001b[0;36mTranslator.translate_document_from_filepath\u001b[1;34m(self, input_path, output_path, source_lang, target_lang, formality, glossary)\u001b[0m\n\u001b[0;32m    929\u001b[0m os\u001b[39m.\u001b[39munlink(output_path)\n\u001b[1;32m--> 930\u001b[0m \u001b[39mraise\u001b[39;00m e\n",
      "File \u001b[1;32md:\\U_targyak\\ERASMUS\\AI\\.venv\\lib\\site-packages\\deepl\\translator.py:919\u001b[0m, in \u001b[0;36mTranslator.translate_document_from_filepath\u001b[1;34m(self, input_path, output_path, source_lang, target_lang, formality, glossary)\u001b[0m\n\u001b[0;32m    918\u001b[0m \u001b[39mtry\u001b[39;00m:\n\u001b[1;32m--> 919\u001b[0m     \u001b[39mreturn\u001b[39;00m \u001b[39mself\u001b[39;49m\u001b[39m.\u001b[39;49mtranslate_document(\n\u001b[0;32m    920\u001b[0m         in_file,\n\u001b[0;32m    921\u001b[0m         out_file,\n\u001b[0;32m    922\u001b[0m         target_lang\u001b[39m=\u001b[39;49mtarget_lang,\n\u001b[0;32m    923\u001b[0m         source_lang\u001b[39m=\u001b[39;49msource_lang,\n\u001b[0;32m    924\u001b[0m         formality\u001b[39m=\u001b[39;49mformality,\n\u001b[0;32m    925\u001b[0m         glossary\u001b[39m=\u001b[39;49mglossary,\n\u001b[0;32m    926\u001b[0m     )\n\u001b[0;32m    927\u001b[0m \u001b[39mexcept\u001b[39;00m \u001b[39mException\u001b[39;00m \u001b[39mas\u001b[39;00m e:\n",
      "File \u001b[1;32md:\\U_targyak\\ERASMUS\\AI\\.venv\\lib\\site-packages\\deepl\\translator.py:982\u001b[0m, in \u001b[0;36mTranslator.translate_document\u001b[1;34m(self, input_document, output_document, source_lang, target_lang, formality, glossary, filename)\u001b[0m\n\u001b[0;32m    981\u001b[0m \u001b[39mexcept\u001b[39;00m \u001b[39mException\u001b[39;00m \u001b[39mas\u001b[39;00m e:\n\u001b[1;32m--> 982\u001b[0m     \u001b[39mraise\u001b[39;00m DocumentTranslationException(\u001b[39mstr\u001b[39m(e), handle) \u001b[39mfrom\u001b[39;00m \u001b[39me\u001b[39;00m\n\u001b[0;32m    984\u001b[0m \u001b[39mif\u001b[39;00m \u001b[39mnot\u001b[39;00m status\u001b[39m.\u001b[39mok:\n",
      "\u001b[1;31mDocumentTranslationException\u001b[0m: Quota for this billing period has been exceeded, document handle: Document ID: 58B2D4DAAA882DFCD9CB8CD34A2695AE, key: D72EF3C6911225AEAE2FE849EDCA4C223EDB6725CF04DC5B5F38E97D08E6CD04",
      "\nDuring handling of the above exception, another exception occurred:\n",
      "\u001b[1;31mAttributeError\u001b[0m                            Traceback (most recent call last)",
      "Cell \u001b[1;32mIn[40], line 23\u001b[0m\n\u001b[0;32m     21\u001b[0m             save_path \u001b[39m=\u001b[39m parent_path\u001b[39m/\u001b[39m(\u001b[39mstr\u001b[39m(file_name)\u001b[39m+\u001b[39mI\u001b[39m.\u001b[39msuffix)\n\u001b[0;32m     22\u001b[0m             \u001b[39mprint\u001b[39m(\u001b[39m\"\u001b[39m\u001b[39mTranslating: \u001b[39m\u001b[39m\"\u001b[39m,I\u001b[39m.\u001b[39mname)\n\u001b[1;32m---> 23\u001b[0m             errorProofTranslate(I,save_path)\n\u001b[0;32m     24\u001b[0m \u001b[39m#cheating on the file root renaming\u001b[39;00m\n\u001b[0;32m     25\u001b[0m (Path(\u001b[39m'\u001b[39m\u001b[39mtranslated\u001b[39m\u001b[39m'\u001b[39m)\u001b[39m/\u001b[39mroot_path)\u001b[39m.\u001b[39mrename(\u001b[39m\"\u001b[39m\u001b[39men_files\u001b[39m\u001b[39m\"\u001b[39m)\n",
      "Cell \u001b[1;32mIn[39], line 16\u001b[0m, in \u001b[0;36merrorProofTranslate\u001b[1;34m(ipath, opath)\u001b[0m\n\u001b[0;32m      4\u001b[0m     translator\u001b[39m.\u001b[39mtranslate_document_from_filepath(\n\u001b[0;32m      5\u001b[0m         ipath,\n\u001b[0;32m      6\u001b[0m         opath,\n\u001b[0;32m      7\u001b[0m         source_lang\u001b[39m=\u001b[39m\u001b[39m\"\u001b[39m\u001b[39mEL\u001b[39m\u001b[39m\"\u001b[39m,\n\u001b[0;32m      8\u001b[0m         target_lang\u001b[39m=\u001b[39m\u001b[39m\"\u001b[39m\u001b[39mEN-GB\u001b[39m\u001b[39m\"\u001b[39m,\n\u001b[0;32m      9\u001b[0m     )\n\u001b[0;32m     11\u001b[0m \u001b[39mexcept\u001b[39;00m deepl\u001b[39m.\u001b[39mDocumentTranslationException \u001b[39mas\u001b[39;00m error:\n\u001b[0;32m     12\u001b[0m     \u001b[39m# If an error occurs during document translation after the document was\u001b[39;00m\n\u001b[0;32m     13\u001b[0m     \u001b[39m# already uploaded, a DocumentTranslationException is raised. The\u001b[39;00m\n\u001b[0;32m     14\u001b[0m     \u001b[39m# document_handle property contains the document handle that may be used to\u001b[39;00m\n\u001b[0;32m     15\u001b[0m     \u001b[39m# later retrieve the document from the server, or contact DeepL support.\u001b[39;00m\n\u001b[1;32m---> 16\u001b[0m     doc_id \u001b[39m=\u001b[39m error\u001b[39m.\u001b[39;49mdocument_handle\u001b[39m.\u001b[39;49mid\n\u001b[0;32m     17\u001b[0m     doc_key \u001b[39m=\u001b[39m error\u001b[39m.\u001b[39mdocument_handle\u001b[39m.\u001b[39mkey\n\u001b[0;32m     18\u001b[0m     \u001b[39mprint\u001b[39m(\u001b[39mf\u001b[39m\u001b[39m\"\u001b[39m\u001b[39mError after uploading $\u001b[39m\u001b[39m{\u001b[39;00merror\u001b[39m}\u001b[39;00m\u001b[39m, id: $\u001b[39m\u001b[39m{\u001b[39;00mdoc_id\u001b[39m}\u001b[39;00m\u001b[39m key: $\u001b[39m\u001b[39m{\u001b[39;00mdoc_key\u001b[39m}\u001b[39;00m\u001b[39m\"\u001b[39m)\n",
      "\u001b[1;31mAttributeError\u001b[0m: 'DocumentHandle' object has no attribute 'id'"
     ]
    }
   ],
   "source": [
    "import os\n",
    "items = root_path.rglob('*')\n",
    "dir_routing = {\n",
    "    root_path:Path('translated')/root_path\n",
    "}\n",
    "os.makedirs(Path('translated')/root_path,exist_ok=True)\n",
    "for I in items:\n",
    "    if I.is_dir():\n",
    "        #translate dir name\n",
    "        folder_name = translator.translate_text(I.name,source_lang=\"el\",target_lang=\"en-gb\")\n",
    "        dir_routing[I] = Path('translated')/I.parent / str(folder_name)\n",
    "        os.makedirs(dir_routing[I],exist_ok=True)\n",
    "    elif I.is_file():\n",
    "        if I.suffix in ['.pdf','.doc','.ppt','.docx','.pptx']:\n",
    "            if I.parent not in dir_routing:\n",
    "                #the dirs should appear earlier, but catch if there is an error\n",
    "                raise ValueError(\"Unexpected path\")\n",
    "            parent_path = dir_routing[I.parent]\n",
    "            file_name = translator.translate_text(I.stem,source_lang=\"el\",target_lang=\"en-gb\")\n",
    "            #print(\"fname: \",file_name,\" suffix: \",I.suffix)\n",
    "            save_path = parent_path/(str(file_name)+I.suffix)\n",
    "            print(\"Translating: \",I.name)\n",
    "            errorProofTranslate(I,save_path)\n",
    "#cheating on the file root renaming\n",
    "(Path('translated')/root_path).rename(\"en_files\")\n",
    "os.rmdir(Path('translated'))"
   ]
  },
  {
   "cell_type": "code",
   "execution_count": 22,
   "metadata": {},
   "outputs": [],
   "source": [
    "status = translator.translate_document_from_filepath(test_file,'test.pdf',source_lang=\"el\",target_lang=\"en-gb\")"
   ]
  }
 ],
 "metadata": {
  "kernelspec": {
   "display_name": "Python 3",
   "language": "python",
   "name": "python3"
  },
  "language_info": {
   "codemirror_mode": {
    "name": "ipython",
    "version": 3
   },
   "file_extension": ".py",
   "mimetype": "text/x-python",
   "name": "python",
   "nbconvert_exporter": "python",
   "pygments_lexer": "ipython3",
   "version": "3.10.7"
  },
  "orig_nbformat": 4
 },
 "nbformat": 4,
 "nbformat_minor": 2
}
